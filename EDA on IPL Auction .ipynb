{
 "cells": [
  {
   "cell_type": "markdown",
   "metadata": {},
   "source": [
    "### Exploratory Data Analysis on IPL Auction data set"
   ]
  },
  {
   "cell_type": "code",
   "execution_count": 1,
   "metadata": {},
   "outputs": [],
   "source": [
    "#importing libraries\n",
    "\n",
    "import pandas as pd\n",
    "import numpy as np\n",
    "import matplotlib.pyplot as plt\n",
    "%matplotlib inline\n",
    "\n",
    "import seaborn as sns\n",
    "\n",
    "import math\n",
    "import statistics as stt\n",
    "import scipy.stats as stats\n",
    "import missingno as ms \n",
    "\n",
    "import warnings\n",
    "warnings.filterwarnings(\"ignore\")"
   ]
  },
  {
   "cell_type": "markdown",
   "metadata": {},
   "source": [
    "## Dataset Analysed : IPL Auction "
   ]
  },
  {
   "cell_type": "code",
   "execution_count": 2,
   "metadata": {},
   "outputs": [
    {
     "data": {
      "text/html": [
       "<div>\n",
       "<style scoped>\n",
       "    .dataframe tbody tr th:only-of-type {\n",
       "        vertical-align: middle;\n",
       "    }\n",
       "\n",
       "    .dataframe tbody tr th {\n",
       "        vertical-align: top;\n",
       "    }\n",
       "\n",
       "    .dataframe thead th {\n",
       "        text-align: right;\n",
       "    }\n",
       "</style>\n",
       "<table border=\"1\" class=\"dataframe\">\n",
       "  <thead>\n",
       "    <tr style=\"text-align: right;\">\n",
       "      <th></th>\n",
       "      <th>Sl.NO.</th>\n",
       "      <th>PLAYER NAME</th>\n",
       "      <th>AGE</th>\n",
       "      <th>COUNTRY</th>\n",
       "      <th>TEAM</th>\n",
       "      <th>PLAYING ROLE</th>\n",
       "      <th>T-RUNS</th>\n",
       "      <th>T-WKTS</th>\n",
       "      <th>ODI-RUNS-S</th>\n",
       "      <th>ODI-SR-B</th>\n",
       "      <th>...</th>\n",
       "      <th>SR-B</th>\n",
       "      <th>SIXERS</th>\n",
       "      <th>RUNS-C</th>\n",
       "      <th>WKTS</th>\n",
       "      <th>AVE-BL</th>\n",
       "      <th>ECON</th>\n",
       "      <th>SR-BL</th>\n",
       "      <th>AUCTION YEAR</th>\n",
       "      <th>BASE PRICE</th>\n",
       "      <th>SOLD PRICE</th>\n",
       "    </tr>\n",
       "  </thead>\n",
       "  <tbody>\n",
       "    <tr>\n",
       "      <th>0</th>\n",
       "      <td>1</td>\n",
       "      <td>Abdulla, YA</td>\n",
       "      <td>2</td>\n",
       "      <td>SA</td>\n",
       "      <td>KXIP</td>\n",
       "      <td>Allrounder</td>\n",
       "      <td>0</td>\n",
       "      <td>0</td>\n",
       "      <td>0</td>\n",
       "      <td>0.00</td>\n",
       "      <td>...</td>\n",
       "      <td>0.00</td>\n",
       "      <td>0</td>\n",
       "      <td>307</td>\n",
       "      <td>15</td>\n",
       "      <td>20.47</td>\n",
       "      <td>8.90</td>\n",
       "      <td>13.93</td>\n",
       "      <td>2009</td>\n",
       "      <td>50000</td>\n",
       "      <td>50000</td>\n",
       "    </tr>\n",
       "    <tr>\n",
       "      <th>1</th>\n",
       "      <td>2</td>\n",
       "      <td>Abdur Razzak</td>\n",
       "      <td>2</td>\n",
       "      <td>BAN</td>\n",
       "      <td>RCB</td>\n",
       "      <td>Bowler</td>\n",
       "      <td>214</td>\n",
       "      <td>18</td>\n",
       "      <td>657</td>\n",
       "      <td>71.41</td>\n",
       "      <td>...</td>\n",
       "      <td>0.00</td>\n",
       "      <td>0</td>\n",
       "      <td>29</td>\n",
       "      <td>0</td>\n",
       "      <td>0.00</td>\n",
       "      <td>14.50</td>\n",
       "      <td>0.00</td>\n",
       "      <td>2008</td>\n",
       "      <td>50000</td>\n",
       "      <td>50000</td>\n",
       "    </tr>\n",
       "    <tr>\n",
       "      <th>2</th>\n",
       "      <td>3</td>\n",
       "      <td>Agarkar, AB</td>\n",
       "      <td>2</td>\n",
       "      <td>IND</td>\n",
       "      <td>KKR</td>\n",
       "      <td>Bowler</td>\n",
       "      <td>571</td>\n",
       "      <td>58</td>\n",
       "      <td>1269</td>\n",
       "      <td>80.62</td>\n",
       "      <td>...</td>\n",
       "      <td>121.01</td>\n",
       "      <td>5</td>\n",
       "      <td>1059</td>\n",
       "      <td>29</td>\n",
       "      <td>36.52</td>\n",
       "      <td>8.81</td>\n",
       "      <td>24.90</td>\n",
       "      <td>2008</td>\n",
       "      <td>200000</td>\n",
       "      <td>350000</td>\n",
       "    </tr>\n",
       "    <tr>\n",
       "      <th>3</th>\n",
       "      <td>4</td>\n",
       "      <td>Ashwin, R</td>\n",
       "      <td>1</td>\n",
       "      <td>IND</td>\n",
       "      <td>CSK</td>\n",
       "      <td>Bowler</td>\n",
       "      <td>284</td>\n",
       "      <td>31</td>\n",
       "      <td>241</td>\n",
       "      <td>84.56</td>\n",
       "      <td>...</td>\n",
       "      <td>76.32</td>\n",
       "      <td>0</td>\n",
       "      <td>1125</td>\n",
       "      <td>49</td>\n",
       "      <td>22.96</td>\n",
       "      <td>6.23</td>\n",
       "      <td>22.14</td>\n",
       "      <td>2011</td>\n",
       "      <td>100000</td>\n",
       "      <td>850000</td>\n",
       "    </tr>\n",
       "    <tr>\n",
       "      <th>4</th>\n",
       "      <td>5</td>\n",
       "      <td>Badrinath, S</td>\n",
       "      <td>2</td>\n",
       "      <td>IND</td>\n",
       "      <td>CSK</td>\n",
       "      <td>Batsman</td>\n",
       "      <td>63</td>\n",
       "      <td>0</td>\n",
       "      <td>79</td>\n",
       "      <td>45.93</td>\n",
       "      <td>...</td>\n",
       "      <td>120.71</td>\n",
       "      <td>28</td>\n",
       "      <td>0</td>\n",
       "      <td>0</td>\n",
       "      <td>0.00</td>\n",
       "      <td>0.00</td>\n",
       "      <td>0.00</td>\n",
       "      <td>2011</td>\n",
       "      <td>100000</td>\n",
       "      <td>800000</td>\n",
       "    </tr>\n",
       "  </tbody>\n",
       "</table>\n",
       "<p>5 rows × 26 columns</p>\n",
       "</div>"
      ],
      "text/plain": [
       "   Sl.NO.   PLAYER NAME  AGE COUNTRY  TEAM PLAYING ROLE  T-RUNS  T-WKTS  \\\n",
       "0       1   Abdulla, YA    2      SA  KXIP   Allrounder       0       0   \n",
       "1       2  Abdur Razzak    2     BAN   RCB       Bowler     214      18   \n",
       "2       3   Agarkar, AB    2     IND   KKR       Bowler     571      58   \n",
       "3       4     Ashwin, R    1     IND   CSK       Bowler     284      31   \n",
       "4       5  Badrinath, S    2     IND   CSK      Batsman      63       0   \n",
       "\n",
       "   ODI-RUNS-S  ODI-SR-B     ...        SR-B  SIXERS  RUNS-C  WKTS  AVE-BL  \\\n",
       "0           0      0.00     ...        0.00       0     307    15   20.47   \n",
       "1         657     71.41     ...        0.00       0      29     0    0.00   \n",
       "2        1269     80.62     ...      121.01       5    1059    29   36.52   \n",
       "3         241     84.56     ...       76.32       0    1125    49   22.96   \n",
       "4          79     45.93     ...      120.71      28       0     0    0.00   \n",
       "\n",
       "    ECON  SR-BL  AUCTION YEAR  BASE PRICE  SOLD PRICE  \n",
       "0   8.90  13.93          2009       50000       50000  \n",
       "1  14.50   0.00          2008       50000       50000  \n",
       "2   8.81  24.90          2008      200000      350000  \n",
       "3   6.23  22.14          2011      100000      850000  \n",
       "4   0.00   0.00          2011      100000      800000  \n",
       "\n",
       "[5 rows x 26 columns]"
      ]
     },
     "execution_count": 2,
     "metadata": {},
     "output_type": "execute_result"
    }
   ],
   "source": [
    "df = pd.read_excel('IPL.xlsx')\n",
    "df.head()"
   ]
  },
  {
   "cell_type": "markdown",
   "metadata": {},
   "source": [
    "#### Shape of dataset"
   ]
  },
  {
   "cell_type": "code",
   "execution_count": 3,
   "metadata": {},
   "outputs": [
    {
     "data": {
      "text/plain": [
       "(130, 26)"
      ]
     },
     "execution_count": 3,
     "metadata": {},
     "output_type": "execute_result"
    }
   ],
   "source": [
    "df.shape  #The data has 130 rows and 26 columns"
   ]
  },
  {
   "cell_type": "markdown",
   "metadata": {},
   "source": [
    "#### Datatypes of the dataset"
   ]
  },
  {
   "cell_type": "code",
   "execution_count": 4,
   "metadata": {},
   "outputs": [
    {
     "data": {
      "text/plain": [
       "Sl.NO.             int64\n",
       "PLAYER NAME       object\n",
       "AGE                int64\n",
       "COUNTRY           object\n",
       "TEAM              object\n",
       "PLAYING ROLE      object\n",
       "T-RUNS             int64\n",
       "T-WKTS             int64\n",
       "ODI-RUNS-S         int64\n",
       "ODI-SR-B         float64\n",
       "ODI-WKTS           int64\n",
       "ODI-SR-BL        float64\n",
       "CAPTAINCY EXP      int64\n",
       "RUNS-S             int64\n",
       "HS                 int64\n",
       "AVE              float64\n",
       "SR-B             float64\n",
       "SIXERS             int64\n",
       "RUNS-C             int64\n",
       "WKTS               int64\n",
       "AVE-BL           float64\n",
       "ECON             float64\n",
       "SR-BL            float64\n",
       "AUCTION YEAR       int64\n",
       "BASE PRICE         int64\n",
       "SOLD PRICE         int64\n",
       "dtype: object"
      ]
     },
     "execution_count": 4,
     "metadata": {},
     "output_type": "execute_result"
    }
   ],
   "source": [
    "df.dtypes"
   ]
  },
  {
   "cell_type": "markdown",
   "metadata": {},
   "source": [
    "#### Checking for null values"
   ]
  },
  {
   "cell_type": "code",
   "execution_count": 5,
   "metadata": {},
   "outputs": [
    {
     "data": {
      "text/plain": [
       "Sl.NO.           0\n",
       "PLAYER NAME      0\n",
       "AGE              0\n",
       "COUNTRY          0\n",
       "TEAM             0\n",
       "PLAYING ROLE     0\n",
       "T-RUNS           0\n",
       "T-WKTS           0\n",
       "ODI-RUNS-S       0\n",
       "ODI-SR-B         0\n",
       "ODI-WKTS         0\n",
       "ODI-SR-BL        0\n",
       "CAPTAINCY EXP    0\n",
       "RUNS-S           0\n",
       "HS               0\n",
       "AVE              0\n",
       "SR-B             0\n",
       "SIXERS           0\n",
       "RUNS-C           0\n",
       "WKTS             0\n",
       "AVE-BL           0\n",
       "ECON             0\n",
       "SR-BL            0\n",
       "AUCTION YEAR     0\n",
       "BASE PRICE       0\n",
       "SOLD PRICE       0\n",
       "dtype: int64"
      ]
     },
     "execution_count": 5,
     "metadata": {},
     "output_type": "execute_result"
    }
   ],
   "source": [
    "df.isnull().sum()  ## the dataset has 0 null values"
   ]
  },
  {
   "cell_type": "markdown",
   "metadata": {},
   "source": [
    "#### Columns in the dataset"
   ]
  },
  {
   "cell_type": "code",
   "execution_count": 6,
   "metadata": {},
   "outputs": [
    {
     "data": {
      "text/plain": [
       "Index(['Sl.NO.', 'PLAYER NAME', 'AGE', 'COUNTRY', 'TEAM', 'PLAYING ROLE',\n",
       "       'T-RUNS', 'T-WKTS', 'ODI-RUNS-S', 'ODI-SR-B', 'ODI-WKTS', 'ODI-SR-BL',\n",
       "       'CAPTAINCY EXP', 'RUNS-S', 'HS', 'AVE', 'SR-B', 'SIXERS', 'RUNS-C',\n",
       "       'WKTS', 'AVE-BL', 'ECON', 'SR-BL', 'AUCTION YEAR', 'BASE PRICE',\n",
       "       'SOLD PRICE'],\n",
       "      dtype='object')"
      ]
     },
     "execution_count": 6,
     "metadata": {},
     "output_type": "execute_result"
    }
   ],
   "source": [
    "df.columns"
   ]
  },
  {
   "cell_type": "markdown",
   "metadata": {},
   "source": [
    "## 1)\tPlot the following charts and mention any two inferences."
   ]
  },
  {
   "cell_type": "code",
   "execution_count": 7,
   "metadata": {},
   "outputs": [
    {
     "data": {
      "text/plain": [
       "2    86\n",
       "3    28\n",
       "1    16\n",
       "Name: AGE, dtype: int64"
      ]
     },
     "execution_count": 7,
     "metadata": {},
     "output_type": "execute_result"
    }
   ],
   "source": [
    "df['AGE'].value_counts()"
   ]
  },
  {
   "cell_type": "markdown",
   "metadata": {},
   "source": [
    "There are three age groups 1,2 and 3"
   ]
  },
  {
   "cell_type": "code",
   "execution_count": 8,
   "metadata": {},
   "outputs": [
    {
     "data": {
      "image/png": "[encoded data removed]",
      "text/plain": [
       "<Figure size 720x432 with 1 Axes>"
      ]
     },
     "metadata": {},
     "output_type": "display_data"
    }
   ],
   "source": [
    "## Chart - 1 - Bar Plot\n",
    "plt.figure(figsize=(10,6))\n",
    "sns.barplot(x='AGE', y='SOLD PRICE', data=df, hue='PLAYING ROLE')\n",
    "plt.xlabel('AGE')\n",
    "plt.ylabel('SOLD PRICE')\n",
    "plt.title ('Sold Price By Age and Playing Role')\n",
    "plt.legend(title='PLAYING ROLE')\n",
    "plt.tight_layout()\n",
    "plt.show()"
   ]
  },
  {
   "cell_type": "markdown",
   "metadata": {},
   "source": [
    "### Inference:\n",
    "\n",
    "1. Age group 2 and 3 has all the 4 playing roles (Allrounder, Bowler, Batsman and W.keeper).\n",
    "            a. Age group 2 has Batsman with highest sold price of approx. 700000 Lakhs.\n",
    "            b. Age group 3 has Allrounder with highest sold price of 800000 Lakhs.\n",
    "\n",
    "2. Age group 1 has only 3 playing roles (Allrounder, Bowler and Batsman) with Batsman having the highest sold price of approx. 1100000 Lakhs."
   ]
  },
  {
   "cell_type": "code",
   "execution_count": 9,
   "metadata": {},
   "outputs": [
    {
     "data": {
      "image/png": "[encoded data removed]",
      "text/plain": [
       "<Figure size 720x432 with 1 Axes>"
      ]
     },
     "metadata": {},
     "output_type": "display_data"
    }
   ],
   "source": [
    "## Chart - 2 - Histogram\n",
    "\n",
    "plt.figure(figsize=(10,6))\n",
    "sns.histplot(data=df, x='COUNTRY', hue='PLAYING ROLE', multiple='stack', kde=True)\n",
    "plt.xlabel('COUNTRY')\n",
    "plt.ylabel('COUNT')\n",
    "plt.title('Distribution of Playing roles with respect to Country')\n",
    "plt.show()"
   ]
  },
  {
   "cell_type": "markdown",
   "metadata": {},
   "source": [
    "### Inference:\n",
    "\n",
    "1. Bangladesh and Zimbabwe has only 2 playing roles and the least distribtuion.\n",
    "                a. Bangladesh has Bowler with almost 0-0.5 distribution \n",
    "                b. Zimbabwe has W.Keeper with almost 0-0.5 distribution\n",
    "                \n",
    "2. India has all the 4 playing roles and has the highest batsman bar compared to other countires.  \n",
    "\n",
    "3. Sri Lanka, South Africa and Pakistan almost have similar bowler heights compared to other countries."
   ]
  },
  {
   "cell_type": "code",
   "execution_count": 10,
   "metadata": {},
   "outputs": [
    {
     "data": {
      "image/png": "[encoded data removed]",
      "text/plain": [
       "<Figure size 720x432 with 1 Axes>"
      ]
     },
     "metadata": {},
     "output_type": "display_data"
    }
   ],
   "source": [
    "## Chart - 3 - Box Plot\n",
    "\n",
    "plt.figure(figsize=(10,6))\n",
    "sns.boxplot(data=df, x='COUNTRY', y='SOLD PRICE', width=0.8, whis=1.5)\n",
    "plt.xlabel('COUNTRY')\n",
    "plt.ylabel('SOLD PRICE')\n",
    "plt.title ('Sold Price distribution with respect to Country')\n",
    "plt.yticks()\n",
    "plt.show()"
   ]
  },
  {
   "cell_type": "markdown",
   "metadata": {},
   "source": [
    "### Inference:\n",
    "\n",
    "1. India, Australia and West Indies are the countries which have outliers \n",
    "\n",
    "2. England has the highest Sold Price compared to other countries\n",
    "\n",
    "3. There are no extreme outliers or variation for countries Bangladesh and Zimbabwe and the sold price are consistently low.\n",
    "\n"
   ]
  },
  {
   "cell_type": "markdown",
   "metadata": {},
   "source": [
    "### 2) It has been observed that one/few outliers are present in the variable ‘SOLD PRICE’.\n",
    "\n",
    "  i)  Draw a box plot for ‘SOLD PRICE’ with outliers & find the value of IQR, Upper limit & lower limit. \n"
   ]
  },
  {
   "cell_type": "code",
   "execution_count": 11,
   "metadata": {},
   "outputs": [
    {
     "data": {
      "image/png": "[encoded data removed]",
      "text/plain": [
       "<Figure size 720x432 with 1 Axes>"
      ]
     },
     "metadata": {},
     "output_type": "display_data"
    }
   ],
   "source": [
    "#Box plot for SOLD PRICE with outliers\n",
    "plt.figure(figsize=(10,6))\n",
    "sns.boxplot(data=df, y='SOLD PRICE', width=0.4, color='brown')\n",
    "plt.ylabel('SOLD PRICE')\n",
    "plt.title('Box plot for SOLD PRICE with outliers')\n",
    "plt.show()"
   ]
  },
  {
   "cell_type": "code",
   "execution_count": 12,
   "metadata": {},
   "outputs": [
    {
     "name": "stdout",
     "output_type": "stream",
     "text": [
      "Quartile1 of SOLD PRICE : 225000\n",
      "Quartile3 of SOLD PRICE : 700000\n",
      "IQR of SOLD PRICE : 475000\n",
      "Lower limit of SOLD PRICE : -487500\n",
      "Upper limit of SOLD PRICE : 1412500\n"
     ]
    }
   ],
   "source": [
    "## Finding IQR, Upper limit and lower limit\n",
    "\n",
    "Q1 = df['SOLD PRICE'].quantile(0.25)\n",
    "Q3 = df['SOLD PRICE'].quantile(0.75)\n",
    "print('Quartile1 of SOLD PRICE :', round(Q1))\n",
    "print('Quartile3 of SOLD PRICE :', round(Q3))\n",
    "\n",
    "#calculating IQR\n",
    "IQR = Q3-Q1\n",
    "print('IQR of SOLD PRICE :', round(IQR))\n",
    "\n",
    "#Finding upper limit and lower limit\n",
    "lower_limit = Q1-1.5*IQR\n",
    "upper_limit = Q3+1.5*IQR\n",
    "print('Lower limit of SOLD PRICE :', round(lower_limit))\n",
    "print('Upper limit of SOLD PRICE :', round(upper_limit))"
   ]
  },
  {
   "cell_type": "code",
   "execution_count": 13,
   "metadata": {},
   "outputs": [
    {
     "data": {
      "text/html": [
       "<div>\n",
       "<style scoped>\n",
       "    .dataframe tbody tr th:only-of-type {\n",
       "        vertical-align: middle;\n",
       "    }\n",
       "\n",
       "    .dataframe tbody tr th {\n",
       "        vertical-align: top;\n",
       "    }\n",
       "\n",
       "    .dataframe thead th {\n",
       "        text-align: right;\n",
       "    }\n",
       "</style>\n",
       "<table border=\"1\" class=\"dataframe\">\n",
       "  <thead>\n",
       "    <tr style=\"text-align: right;\">\n",
       "      <th></th>\n",
       "      <th>Sl.NO.</th>\n",
       "      <th>PLAYER NAME</th>\n",
       "      <th>AGE</th>\n",
       "      <th>COUNTRY</th>\n",
       "      <th>TEAM</th>\n",
       "      <th>PLAYING ROLE</th>\n",
       "      <th>T-RUNS</th>\n",
       "      <th>T-WKTS</th>\n",
       "      <th>ODI-RUNS-S</th>\n",
       "      <th>ODI-SR-B</th>\n",
       "      <th>...</th>\n",
       "      <th>SR-B</th>\n",
       "      <th>SIXERS</th>\n",
       "      <th>RUNS-C</th>\n",
       "      <th>WKTS</th>\n",
       "      <th>AVE-BL</th>\n",
       "      <th>ECON</th>\n",
       "      <th>SR-BL</th>\n",
       "      <th>AUCTION YEAR</th>\n",
       "      <th>BASE PRICE</th>\n",
       "      <th>SOLD PRICE</th>\n",
       "    </tr>\n",
       "  </thead>\n",
       "  <tbody>\n",
       "    <tr>\n",
       "      <th>15</th>\n",
       "      <td>16</td>\n",
       "      <td>Dhoni, MS</td>\n",
       "      <td>2</td>\n",
       "      <td>IND</td>\n",
       "      <td>CSK</td>\n",
       "      <td>W. Keeper</td>\n",
       "      <td>3509</td>\n",
       "      <td>0</td>\n",
       "      <td>6773</td>\n",
       "      <td>88.19</td>\n",
       "      <td>...</td>\n",
       "      <td>136.45</td>\n",
       "      <td>64</td>\n",
       "      <td>0</td>\n",
       "      <td>0</td>\n",
       "      <td>0.00</td>\n",
       "      <td>0.00</td>\n",
       "      <td>0.00</td>\n",
       "      <td>2008</td>\n",
       "      <td>400000</td>\n",
       "      <td>1500000</td>\n",
       "    </tr>\n",
       "    <tr>\n",
       "      <th>23</th>\n",
       "      <td>24</td>\n",
       "      <td>Flintoff, A</td>\n",
       "      <td>2</td>\n",
       "      <td>ENG</td>\n",
       "      <td>CSK</td>\n",
       "      <td>Allrounder</td>\n",
       "      <td>3845</td>\n",
       "      <td>226</td>\n",
       "      <td>3394</td>\n",
       "      <td>88.82</td>\n",
       "      <td>...</td>\n",
       "      <td>116.98</td>\n",
       "      <td>2</td>\n",
       "      <td>105</td>\n",
       "      <td>2</td>\n",
       "      <td>52.50</td>\n",
       "      <td>9.55</td>\n",
       "      <td>33.00</td>\n",
       "      <td>2009</td>\n",
       "      <td>950000</td>\n",
       "      <td>1550000</td>\n",
       "    </tr>\n",
       "    <tr>\n",
       "      <th>50</th>\n",
       "      <td>51</td>\n",
       "      <td>Kohli, V</td>\n",
       "      <td>1</td>\n",
       "      <td>IND</td>\n",
       "      <td>RCB</td>\n",
       "      <td>Batsman</td>\n",
       "      <td>491</td>\n",
       "      <td>0</td>\n",
       "      <td>3590</td>\n",
       "      <td>86.31</td>\n",
       "      <td>...</td>\n",
       "      <td>119.29</td>\n",
       "      <td>49</td>\n",
       "      <td>345</td>\n",
       "      <td>4</td>\n",
       "      <td>86.25</td>\n",
       "      <td>8.84</td>\n",
       "      <td>58.50</td>\n",
       "      <td>2011</td>\n",
       "      <td>150000</td>\n",
       "      <td>1800000</td>\n",
       "    </tr>\n",
       "    <tr>\n",
       "      <th>83</th>\n",
       "      <td>84</td>\n",
       "      <td>Pietersen, KP</td>\n",
       "      <td>2</td>\n",
       "      <td>ENG</td>\n",
       "      <td>RCB+</td>\n",
       "      <td>Batsman</td>\n",
       "      <td>6654</td>\n",
       "      <td>5</td>\n",
       "      <td>4184</td>\n",
       "      <td>86.76</td>\n",
       "      <td>...</td>\n",
       "      <td>141.20</td>\n",
       "      <td>30</td>\n",
       "      <td>215</td>\n",
       "      <td>7</td>\n",
       "      <td>30.71</td>\n",
       "      <td>7.41</td>\n",
       "      <td>24.86</td>\n",
       "      <td>2009</td>\n",
       "      <td>1350000</td>\n",
       "      <td>1550000</td>\n",
       "    </tr>\n",
       "    <tr>\n",
       "      <th>93</th>\n",
       "      <td>94</td>\n",
       "      <td>Sehwag, V</td>\n",
       "      <td>2</td>\n",
       "      <td>IND</td>\n",
       "      <td>DD</td>\n",
       "      <td>Batsman</td>\n",
       "      <td>8178</td>\n",
       "      <td>40</td>\n",
       "      <td>8090</td>\n",
       "      <td>104.68</td>\n",
       "      <td>...</td>\n",
       "      <td>167.32</td>\n",
       "      <td>79</td>\n",
       "      <td>226</td>\n",
       "      <td>6</td>\n",
       "      <td>37.67</td>\n",
       "      <td>10.56</td>\n",
       "      <td>21.67</td>\n",
       "      <td>2011</td>\n",
       "      <td>400000</td>\n",
       "      <td>1800000</td>\n",
       "    </tr>\n",
       "    <tr>\n",
       "      <th>111</th>\n",
       "      <td>112</td>\n",
       "      <td>Tendulkar, SR</td>\n",
       "      <td>3</td>\n",
       "      <td>IND</td>\n",
       "      <td>MI</td>\n",
       "      <td>Batsman</td>\n",
       "      <td>15470</td>\n",
       "      <td>45</td>\n",
       "      <td>18426</td>\n",
       "      <td>86.23</td>\n",
       "      <td>...</td>\n",
       "      <td>119.22</td>\n",
       "      <td>24</td>\n",
       "      <td>58</td>\n",
       "      <td>0</td>\n",
       "      <td>0.00</td>\n",
       "      <td>9.67</td>\n",
       "      <td>0.00</td>\n",
       "      <td>2011</td>\n",
       "      <td>400000</td>\n",
       "      <td>1800000</td>\n",
       "    </tr>\n",
       "    <tr>\n",
       "      <th>113</th>\n",
       "      <td>114</td>\n",
       "      <td>Tiwary, SS</td>\n",
       "      <td>1</td>\n",
       "      <td>IND</td>\n",
       "      <td>MI+</td>\n",
       "      <td>Batsman</td>\n",
       "      <td>0</td>\n",
       "      <td>0</td>\n",
       "      <td>49</td>\n",
       "      <td>87.50</td>\n",
       "      <td>...</td>\n",
       "      <td>119.60</td>\n",
       "      <td>32</td>\n",
       "      <td>0</td>\n",
       "      <td>0</td>\n",
       "      <td>0.00</td>\n",
       "      <td>0.00</td>\n",
       "      <td>0.00</td>\n",
       "      <td>2011</td>\n",
       "      <td>100000</td>\n",
       "      <td>1600000</td>\n",
       "    </tr>\n",
       "    <tr>\n",
       "      <th>127</th>\n",
       "      <td>128</td>\n",
       "      <td>Yuvraj Singh</td>\n",
       "      <td>2</td>\n",
       "      <td>IND</td>\n",
       "      <td>KXIP+</td>\n",
       "      <td>Batsman</td>\n",
       "      <td>1775</td>\n",
       "      <td>9</td>\n",
       "      <td>8051</td>\n",
       "      <td>87.58</td>\n",
       "      <td>...</td>\n",
       "      <td>131.88</td>\n",
       "      <td>67</td>\n",
       "      <td>569</td>\n",
       "      <td>23</td>\n",
       "      <td>24.74</td>\n",
       "      <td>7.02</td>\n",
       "      <td>21.13</td>\n",
       "      <td>2011</td>\n",
       "      <td>400000</td>\n",
       "      <td>1800000</td>\n",
       "    </tr>\n",
       "  </tbody>\n",
       "</table>\n",
       "<p>8 rows × 26 columns</p>\n",
       "</div>"
      ],
      "text/plain": [
       "     Sl.NO.    PLAYER NAME  AGE COUNTRY   TEAM PLAYING ROLE  T-RUNS  T-WKTS  \\\n",
       "15       16      Dhoni, MS    2     IND    CSK    W. Keeper    3509       0   \n",
       "23       24    Flintoff, A    2     ENG    CSK   Allrounder    3845     226   \n",
       "50       51       Kohli, V    1     IND    RCB      Batsman     491       0   \n",
       "83       84  Pietersen, KP    2     ENG   RCB+      Batsman    6654       5   \n",
       "93       94      Sehwag, V    2     IND     DD      Batsman    8178      40   \n",
       "111     112  Tendulkar, SR    3     IND     MI      Batsman   15470      45   \n",
       "113     114     Tiwary, SS    1     IND    MI+      Batsman       0       0   \n",
       "127     128   Yuvraj Singh    2     IND  KXIP+      Batsman    1775       9   \n",
       "\n",
       "     ODI-RUNS-S  ODI-SR-B     ...        SR-B  SIXERS  RUNS-C  WKTS  AVE-BL  \\\n",
       "15         6773     88.19     ...      136.45      64       0     0    0.00   \n",
       "23         3394     88.82     ...      116.98       2     105     2   52.50   \n",
       "50         3590     86.31     ...      119.29      49     345     4   86.25   \n",
       "83         4184     86.76     ...      141.20      30     215     7   30.71   \n",
       "93         8090    104.68     ...      167.32      79     226     6   37.67   \n",
       "111       18426     86.23     ...      119.22      24      58     0    0.00   \n",
       "113          49     87.50     ...      119.60      32       0     0    0.00   \n",
       "127        8051     87.58     ...      131.88      67     569    23   24.74   \n",
       "\n",
       "      ECON  SR-BL  AUCTION YEAR  BASE PRICE  SOLD PRICE  \n",
       "15    0.00   0.00          2008      400000     1500000  \n",
       "23    9.55  33.00          2009      950000     1550000  \n",
       "50    8.84  58.50          2011      150000     1800000  \n",
       "83    7.41  24.86          2009     1350000     1550000  \n",
       "93   10.56  21.67          2011      400000     1800000  \n",
       "111   9.67   0.00          2011      400000     1800000  \n",
       "113   0.00   0.00          2011      100000     1600000  \n",
       "127   7.02  21.13          2011      400000     1800000  \n",
       "\n",
       "[8 rows x 26 columns]"
      ]
     },
     "execution_count": 13,
     "metadata": {},
     "output_type": "execute_result"
    }
   ],
   "source": [
    "df[(df['SOLD PRICE'] < lower_limit)| (df['SOLD PRICE']>upper_limit)]"
   ]
  },
  {
   "cell_type": "markdown",
   "metadata": {},
   "source": [
    "ii) Remove outliers & draw the box plot. "
   ]
  },
  {
   "cell_type": "code",
   "execution_count": 14,
   "metadata": {},
   "outputs": [
    {
     "data": {
      "image/png": "[encoded data removed]",
      "text/plain": [
       "<Figure size 720x432 with 1 Axes>"
      ]
     },
     "metadata": {},
     "output_type": "display_data"
    }
   ],
   "source": [
    "outliers = df[(df['SOLD PRICE'] >= lower_limit)& (df['SOLD PRICE']<=upper_limit)]\n",
    "plt.figure(figsize=(10,6))\n",
    "sns.boxplot(data=outliers, y='SOLD PRICE', width=0.4, color='yellow')\n",
    "plt.ylabel('SOLD PRICE')\n",
    "plt.title('Box Plot for SOLD PRICE without outliers')\n",
    "plt.show()"
   ]
  },
  {
   "cell_type": "markdown",
   "metadata": {},
   "source": [
    "### 3) Assume that we would like to filter certain records such as the players who have hit more than 80 sixers in the IPL tournament. Write a code to display the data frame with only the player name & sixers, for the same."
   ]
  },
  {
   "cell_type": "code",
   "execution_count": 15,
   "metadata": {},
   "outputs": [
    {
     "name": "stdout",
     "output_type": "stream",
     "text": [
      "Players with more than 80 Sixers are:\n"
     ]
    },
    {
     "data": {
      "text/html": [
       "<div>\n",
       "<style scoped>\n",
       "    .dataframe tbody tr th:only-of-type {\n",
       "        vertical-align: middle;\n",
       "    }\n",
       "\n",
       "    .dataframe tbody tr th {\n",
       "        vertical-align: top;\n",
       "    }\n",
       "\n",
       "    .dataframe thead th {\n",
       "        text-align: right;\n",
       "    }\n",
       "</style>\n",
       "<table border=\"1\" class=\"dataframe\">\n",
       "  <thead>\n",
       "    <tr style=\"text-align: right;\">\n",
       "      <th></th>\n",
       "      <th>PLAYER NAME</th>\n",
       "      <th>SIXERS</th>\n",
       "    </tr>\n",
       "  </thead>\n",
       "  <tbody>\n",
       "    <tr>\n",
       "      <th>26</th>\n",
       "      <td>Gayle, CH</td>\n",
       "      <td>129</td>\n",
       "    </tr>\n",
       "    <tr>\n",
       "      <th>28</th>\n",
       "      <td>Gilchrist, AC</td>\n",
       "      <td>86</td>\n",
       "    </tr>\n",
       "    <tr>\n",
       "      <th>82</th>\n",
       "      <td>Pathan, YK</td>\n",
       "      <td>81</td>\n",
       "    </tr>\n",
       "    <tr>\n",
       "      <th>88</th>\n",
       "      <td>Raina, SK</td>\n",
       "      <td>97</td>\n",
       "    </tr>\n",
       "    <tr>\n",
       "      <th>97</th>\n",
       "      <td>Sharma, RG</td>\n",
       "      <td>82</td>\n",
       "    </tr>\n",
       "  </tbody>\n",
       "</table>\n",
       "</div>"
      ],
      "text/plain": [
       "      PLAYER NAME  SIXERS\n",
       "26      Gayle, CH     129\n",
       "28  Gilchrist, AC      86\n",
       "82     Pathan, YK      81\n",
       "88      Raina, SK      97\n",
       "97     Sharma, RG      82"
      ]
     },
     "execution_count": 15,
     "metadata": {},
     "output_type": "execute_result"
    }
   ],
   "source": [
    "a = df[df['SIXERS']>80][['PLAYER NAME', 'SIXERS']]\n",
    "print('Players with more than 80 Sixers are:')\n",
    "a"
   ]
  }
 ],
 "metadata": {
  "kernelspec": {
   "display_name": "Python 3 (ipykernel)",
   "language": "python",
   "name": "python3"
  },
  "language_info": {
   "codemirror_mode": {
    "name": "ipython",
    "version": 3
   },
   "file_extension": ".py",
   "mimetype": "text/x-python",
   "name": "python",
   "nbconvert_exporter": "python",
   "pygments_lexer": "ipython3",
   "version": "3.10.9"
  }
 },
 "nbformat": 4,
 "nbformat_minor": 2
}
