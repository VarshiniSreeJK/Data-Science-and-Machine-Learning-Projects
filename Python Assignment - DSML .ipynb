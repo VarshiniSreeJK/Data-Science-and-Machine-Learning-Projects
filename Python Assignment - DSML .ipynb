{
 "cells": [
  {
   "cell_type": "markdown",
   "id": "e2b23b85",
   "metadata": {},
   "source": [
    " #### 1.Write a Python function histogram(ls) that takes as input a list of integers with repetitions and returns a list of pairs as follows:\n",
    "- For each number n that appears in ls, there should be exactly one pair (n, r) in the list returned by the function, where r is is the number of repetitions of n in ls.\n",
    "- The final list should be sorted in ascending order by r, the number of repetitions. For numbers that occur with the same number of repetitions, arrange the pairs in ascending order of the value of the number.\n",
    "\n",
    " - Input:\n",
    "A series of values separated by comma and a space. (Use input() to take input from the user)\n",
    "- Output:\n",
    "A sorted list of tuples, where each tuple has an element and its frequency.\n",
    " - Sample Input 1:\n",
    "13,12,11,13,14,13,7,7,13,14,12\n",
    " - Sample Output 1:\n",
    "[(11, 1), (7, 2), (12, 2), (14, 2), (13, 4)]\n",
    "- Explanation:\n",
    "The element 11 has appeared once in the list, hence the tuple (11, 1) indicates the number and its frequency. Similarly, 7 has appeared twice, 12 has appeared twice etc. The sorting is based on the frequency. So, as lowest frequency is 1 here and the corresponding element is 11, the respective tuple (11, 1) has appeared first in the list. Whereas, the elements 7, 12 and 14 have equal frequencies. So, sorting is based on the values themselves, in that order."
   ]
  },
  {
   "cell_type": "code",
   "execution_count": 1,
   "id": "e765a182",
   "metadata": {},
   "outputs": [
    {
     "data": {
      "text/plain": [
       "[(11, 1), (7, 2), (12, 2), (14, 2), (13, 4)]"
      ]
     },
     "execution_count": 1,
     "metadata": {},
     "output_type": "execute_result"
    }
   ],
   "source": [
    "def histogram(ls):\n",
    "    counts={}\n",
    "    \n",
    "    for i in ls:\n",
    "        if i in counts:\n",
    "            counts[i] +=1\n",
    "        else:\n",
    "            counts[i] =1\n",
    "    \n",
    "    list1=[(a,b) for a,b in counts.items()]\n",
    "    list1.sort(key=lambda x:(x[1], x[0]))\n",
    "    return list1\n",
    "\n",
    "ls = [13,12,11,13,14,13,7,7,13,14,12]\n",
    "histogram(ls)"
   ]
  },
  {
   "cell_type": "markdown",
   "id": "357c5263",
   "metadata": {},
   "source": [
    "#### 2.Define a Python function alternating(ls) that returns True if the values in the input list alternately go up and down (in a strict manner).\n",
    " - Input:\n",
    "    A series of values separated by comma.\n",
    " - Output:\n",
    "    Either True or False depending on whether the elements are arranged alternatively as per their values.\n",
    "- Sample Input 1:\n",
    "    1,3,2,3,1,5\n",
    "- Sample Output 1:\n",
    "    True\n",
    "- Sample Input 2:\n",
    "    3,2,2,1,5\n",
    "- Sample Output 2:\n",
    "    False"
   ]
  },
  {
   "cell_type": "code",
   "execution_count": 2,
   "id": "f59cd97c",
   "metadata": {},
   "outputs": [
    {
     "data": {
      "text/plain": [
       "True"
      ]
     },
     "execution_count": 2,
     "metadata": {},
     "output_type": "execute_result"
    }
   ],
   "source": [
    "def alternating(ls):\n",
    "    \n",
    "    for i in range(1,len(ls)-1):\n",
    "        \n",
    "        if (ls[i]>ls[i-1] and ls[i]>ls[i+1])or (ls[i]<ls[i-1] and ls[i]<ls[i+1]):\n",
    "            continue\n",
    "        else:\n",
    "            return False\n",
    "    return True\n",
    "#input1\n",
    "ls=[1,3,2,3,1,5]\n",
    "alternating(ls)\n",
    "        \n",
    "     \n"
   ]
  },
  {
   "cell_type": "code",
   "execution_count": 3,
   "id": "11631c97",
   "metadata": {},
   "outputs": [
    {
     "data": {
      "text/plain": [
       "False"
      ]
     },
     "execution_count": 3,
     "metadata": {},
     "output_type": "execute_result"
    }
   ],
   "source": [
    "def alternating(ls):\n",
    "    \n",
    "    for i in range(1,len(ls)-1):\n",
    "        \n",
    "        if (ls[i]>ls[i-1] and ls[i]>ls[i+1])or(ls[i]<ls[i-1] and ls[i]<ls[i+1]):\n",
    "            continue\n",
    "        else:\n",
    "            return False\n",
    "    return True\n",
    "#input 2\n",
    "ls=[3,2,2,1,5]\n",
    "alternating(ls)"
   ]
  },
  {
   "cell_type": "markdown",
   "id": "39304831",
   "metadata": {},
   "source": [
    "#### 3.Write a Python program that does the following:\n",
    "- takes a list as input - list_input\n",
    "- takes another list as input - list_pos\n",
    "- creates a Pandas Series from list_input\n",
    "- prints all values of list_input which are present at the positions listed out by list_pos\n",
    "- For the positions listed out by list_pos, print all values from list_input which are present at those locations, along with its dtype\n",
    "- Sample Test Cases\n",
    "- Sample Input\n",
    "a b c d e f g h i j k l m n o p q r s t u v w x y z\n",
    "0 4 8 14 20\n",
    "- Sample Output\n",
    "0 a\n",
    "4 e\n",
    "8 i\n",
    "14 o\n",
    "20 u\n",
    "dtype: object\n",
    "- Explanation\n",
    "Based on 0-based indexing, the values of list_input present at the positions: 0, 4, 8, 14 and 20 ARE a, e, i, o and u respectively."
   ]
  },
  {
   "cell_type": "code",
   "execution_count": 4,
   "id": "b8083f46",
   "metadata": {},
   "outputs": [
    {
     "name": "stdout",
     "output_type": "stream",
     "text": [
      "0     a\n",
      "4     e\n",
      "8     i\n",
      "14    o\n",
      "20    u\n",
      "dtype: object\n"
     ]
    }
   ],
   "source": [
    "#Input 1   \n",
    "import pandas as pd\n",
    "\n",
    "list_input = ['a','b','c','d','e','f','g','h','i','j','k','l','m','n','o','p','q',\n",
    "             'r','s','t','u','v','w','x','y','z']\n",
    "list_pos = [0,4,8,14,20]\n",
    "list_input1 = pd.Series(list_input)\n",
    "result = list_input1.take(list_pos)\n",
    "print(result)"
   ]
  },
  {
   "cell_type": "code",
   "execution_count": 5,
   "id": "fd3f788e",
   "metadata": {},
   "outputs": [
    {
     "name": "stdout",
     "output_type": "stream",
     "text": [
      "0          I\n",
      "2    working\n",
      "4         56\n",
      "6         25\n",
      "dtype: object\n"
     ]
    }
   ],
   "source": [
    "#input 2\n",
    "import pandas as pd \n",
    "\n",
    "list_input = ['I', 'am', 'working', 32, 56,24,25,26]\n",
    "list_pos = [0,2,4,6]\n",
    "list_input1 = pd.Series(list_input)\n",
    "result = list_input1.take(list_pos)\n",
    "print(result)"
   ]
  }
 ],
 "metadata": {
  "kernelspec": {
   "display_name": "Python 3 (ipykernel)",
   "language": "python",
   "name": "python3"
  },
  "language_info": {
   "codemirror_mode": {
    "name": "ipython",
    "version": 3
   },
   "file_extension": ".py",
   "mimetype": "text/x-python",
   "name": "python",
   "nbconvert_exporter": "python",
   "pygments_lexer": "ipython3",
   "version": "3.10.9"
  }
 },
 "nbformat": 4,
 "nbformat_minor": 5
}
